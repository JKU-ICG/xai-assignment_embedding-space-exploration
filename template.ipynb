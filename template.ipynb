{
 "cells": [
  {
   "cell_type": "markdown",
   "metadata": {},
   "source": [
    "# Exploration of Projection Spaces\n",
    "\n",
    "## Group:  _TODO_\n",
    "* Students:\n",
    "  * Name: _TODO_; ID: _TODO_\n",
    "  * Name: _TODO_; ID: _TODO_\n",
    "  * ..."
   ]
  },
  {
   "cell_type": "code",
   "execution_count": null,
   "metadata": {},
   "outputs": [],
   "source": [
    "# Feel free to add dependencies, but make sure that they are included in environment.yml\n",
    "\n",
    "#disable some annoying warnings\n",
    "import warnings\n",
    "warnings.filterwarnings('ignore', category=FutureWarning)\n",
    "\n",
    "#plots the figures in place instead of a new window\n",
    "%matplotlib inline\n",
    "\n",
    "import numpy as np\n",
    "import pandas as pd\n",
    "\n",
    "import matplotlib.pyplot as plt\n",
    "\n",
    "from sklearn import manifold\n",
    "from openTSNE import TSNE\n",
    "from openTSNE.callbacks import ErrorLogger\n",
    "from umap import UMAP"
   ]
  },
  {
   "cell_type": "markdown",
   "metadata": {},
   "source": [
    "## Data\n",
    "To be able to explore paths in a projected space, you need to pick a problem/algorithm/model that consists of multiple states that change interatively.\n",
    "\n",
    "<details>\n",
    "    <summary>See an Example</summary>\n",
    "\n",
    "    \n",
    "An example would be to solve a Rubik's Cube. After each rotation the state of the cube changes. This results in a path from the initial state, through the individual rotations, to the solved cube.\n",
    "By using projection we can examine the individual states and paths in the two-dimensional space.\n",
    "Depending on the initial state and the solution strategy the paths will differ or resemble each other.\n",
    "    \n",
    "This is an example of solving 10 randomly scrambled rubik cubes with two different strategies, the Beginner (in green) and the Fridrich Method (in orange):\n",
    "<div>\n",
    "    <img alt=\"Rubiks's Cube Sovling Strategies\" src=\"rubiks.png\" width=\"600\"/>\n",
    "</div>\n",
    "You can see that although each cube is scrambled differently in the beginning, both strategies converge to the same paths after a few steps.\n",
    "You can also notice that the Beginner's method takes some additional paths that are not necessary with the Fridrich method.\n",
    "</details>\n",
    "\n",
    "### Read and Prepare Data\n",
    "Read in your data from a file or create your own data.\n",
    "\n",
    "Document any data processing steps."
   ]
  },
  {
   "cell_type": "code",
   "execution_count": null,
   "metadata": {},
   "outputs": [],
   "source": [
    "# TODO"
   ]
  },
  {
   "cell_type": "markdown",
   "metadata": {},
   "source": [
    "### Comments\n",
    "- Where is the data from?\n",
    "- What is the data about?\n",
    "- What are you expecting to see?\n",
    "- Did you transform the data?  Why?\n",
    "\n",
    "_TODO_"
   ]
  },
  {
   "cell_type": "markdown",
   "metadata": {},
   "source": [
    "## Projection\n",
    "Project your data into a 2D space.\n",
    "\n",
    "This template comes with t-SNE and UMAP, but you may also choose other methods to project your data (make sure that all additional dependencies are included when submitting)."
   ]
  },
  {
   "cell_type": "code",
   "execution_count": null,
   "metadata": {},
   "outputs": [],
   "source": [
    "# TODO"
   ]
  },
  {
   "cell_type": "markdown",
   "metadata": {},
   "source": [
    "### Comments\n",
    "- Which features did you use? Why?\n",
    "- Why did you choose these parameters for the projection?\n",
    "\n",
    "_TODO_"
   ]
  },
  {
   "cell_type": "markdown",
   "metadata": {},
   "source": [
    "### Link States\n",
    "Connect the states that belong together.\n",
    "\n",
    "The states of a single solution should be connected to see the path from the start to the end state.\n",
    "How the points are connected is up to you, for example with straight lines or splines."
   ]
  },
  {
   "cell_type": "code",
   "execution_count": null,
   "metadata": {},
   "outputs": [],
   "source": [
    "# TODO"
   ]
  },
  {
   "cell_type": "markdown",
   "metadata": {},
   "source": [
    "<details>\n",
    "  <summary>Optional: Projection Path Explorer</summary>\n",
    "  \n",
    "## Projection Path Explorer\n",
    "\n",
    "The [Projection Path Explorer](https://develop--projection-path-explorer.netlify.app/) is a web application to plot and connect two dimensional points. \n",
    "Metadata of the data points can be used to encode additonal information into the projection, e.g., by using different shapes or colors.\n",
    "    \n",
    "Further Information:\n",
    "* Paper: https://arxiv.org/abs/2001.08372\n",
    "* Repo: https://github.com/JKU-ICG/projection-path-explorer\n",
    "* Application: https://develop--projection-path-explorer.netlify.app/\n",
    "\n",
    "### Data Format\n",
    "How to format the data can be found in the [Projection Path Explorer'S README](https://github.com/JKU-ICG/projection-path-explorer/#data-format).\n",
    "\n",
    "Example data with three lines, with two colors (algo) and additional mark encoding (cp):\n",
    "\n",
    "|    x |  y | line |    cp | algo |\n",
    "|-----:|---:|-----:|------:|-----:|\n",
    "| 0.0  | 0  | 0    | start | 1    |\n",
    "| 2.0  | 1  | 0    | state | 1    |\n",
    "| 4.0  | 4  | 0    | state | 1    |\n",
    "| 6.0  | 1  | 0    | state | 1    |\n",
    "| 8.0  | 0  | 0    | state | 1    |\n",
    "| 12.0 | 0  | 0    | end   | 1    |\n",
    "| -1.0 | 10 | 1    | start | 2    |\n",
    "| 0.5  | 5  | 1    | state | 2    |\n",
    "| 2.0  | 3  | 1    | state | 2    |\n",
    "| 3.5  | 0  | 1    | state | 2    |\n",
    "| 5.0  | 3  | 1    | state | 2    |\n",
    "| 6.5  | 5  | 1    | state | 2    |\n",
    "| 8.0  | 10 | 1    | end   | 2    |\n",
    "| 3.0  | 6  | 2    | start | 2    |\n",
    "| 2.0  | 7  | 2    | end   | 2    |\n",
    "\n",
    "\n",
    "\n",
    "Save the dataset to csv, e.g. using pandas: `df.to_csv('data_path_explorer.csv', encoding='utf-8', index=False)`  \n",
    "and upload it in the [Projection Path Explorer](https://develop--projection-path-explorer.netlify.app/) by clicking on `LOAD DATASET` in the top left corner.\n",
    "    \n",
    "ℹ You can also include your high dimensionmal data and use it to adapt the visualization.\n",
    "    \n",
    "</details>\n"
   ]
  },
  {
   "cell_type": "markdown",
   "metadata": {},
   "source": [
    "### Meta Data Encoding \n",
    "Encode addtional features in the visualization.\n",
    "\n",
    "Use features of the source data and include them in the projection, e.g., by using color, opacity, different markers or lines, etc."
   ]
  },
  {
   "cell_type": "code",
   "execution_count": null,
   "metadata": {},
   "outputs": [],
   "source": [
    "# TODO"
   ]
  },
  {
   "cell_type": "markdown",
   "metadata": {},
   "source": [
    "### Comments\n",
    "- Which features did you use? Why?\n",
    "- How are the features encoded?\n",
    "\n",
    "_TODO_"
   ]
  },
  {
   "cell_type": "markdown",
   "metadata": {},
   "source": [
    "## Results\n",
    "ℹ When using the Projection Path Explorer, insert screenshots.\n",
    "\n"
   ]
  },
  {
   "cell_type": "code",
   "execution_count": null,
   "metadata": {},
   "outputs": [],
   "source": [
    "# TODO"
   ]
  },
  {
   "cell_type": "markdown",
   "metadata": {},
   "source": [
    "### Interpretion\n",
    "- What can be seen in the projection?\n",
    "- Was it what you expected? If not what did you expect?\n",
    "- Can you confirm prior hypothesis from the projection?\n",
    "- Did you get any unexpected insights?\n",
    "\n",
    "_TODO_"
   ]
  },
  {
   "cell_type": "markdown",
   "metadata": {},
   "source": [
    "## Submission\n",
    "When you’ve finished working on this assignment please download this notebook as HTML and add it to your repository in addition to the notebook file."
   ]
  }
 ],
 "metadata": {
  "kernelspec": {
   "display_name": "Python 3",
   "language": "python",
   "name": "python3"
  },
  "language_info": {
   "codemirror_mode": {
    "name": "ipython",
    "version": 3
   },
   "file_extension": ".py",
   "mimetype": "text/x-python",
   "name": "python",
   "nbconvert_exporter": "python",
   "pygments_lexer": "ipython3",
   "version": "3.8.6"
  }
 },
 "nbformat": 4,
 "nbformat_minor": 4
}
